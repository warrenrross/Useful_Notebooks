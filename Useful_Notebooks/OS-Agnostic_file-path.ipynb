{
 "cells": [
  {
   "cell_type": "markdown",
   "id": "9fda8618-43ad-41a6-868e-063be965686f",
   "metadata": {},
   "source": [
    "# Use pathlib module for file handling w/ Python\n",
    "_This tutorial was created with the help of ChatGPT_\n",
    "\n",
    "File handling is different between operation systems because file paths in Windows use '\\file' while file paths everywhere else use '/file'.  \n",
    "This is a *pain in the ass* when writing code so Python has the **pathlib** module  to deal with it."
   ]
  },
  {
   "cell_type": "markdown",
   "id": "bb2b1795-f3a4-47a3-8be4-651d7aab5d5a",
   "metadata": {},
   "source": [
    "## How it works\n",
    "\n",
    "We import the functions we need. "
   ]
  },
  {
   "cell_type": "code",
   "execution_count": 1,
   "id": "e13b418e-30d6-463f-b258-ac1c567561b6",
   "metadata": {},
   "outputs": [
    {
     "name": "stdout",
     "output_type": "stream",
     "text": [
      "Folder/file.txt\n"
     ]
    }
   ],
   "source": [
    "from pathlib import Path\n",
    "\n",
    "# Creating a Path object\n",
    "directory = Path(\"Folder\")\n",
    "filename = \"file.txt\"\n",
    "file_path = directory / filename\n",
    "\n",
    "print(file_path)"
   ]
  },
  {
   "cell_type": "markdown",
   "id": "6ffa3a6d-1738-4362-ad18-cc112508e6e8",
   "metadata": {},
   "source": [
    "### The pathlib module looks like...\n",
    "\n",
    "![](pathlib-inheritance.png)\n",
    "\n",
    "For system-agnostic file path names we use the **Path** functions from the module."
   ]
  },
  {
   "cell_type": "code",
   "execution_count": 2,
   "id": "524b0b63-4923-4191-957d-27e471f6b551",
   "metadata": {},
   "outputs": [
    {
     "data": {
      "text/plain": [
       "pathlib.PosixPath"
      ]
     },
     "execution_count": 2,
     "metadata": {},
     "output_type": "execute_result"
    }
   ],
   "source": [
    "# Path gives us is a pathlib object or data-type.\n",
    "type(file_path)"
   ]
  },
  {
   "cell_type": "code",
   "execution_count": 3,
   "id": "e1c36b1f-5d13-4d37-b444-2edfbf790a1c",
   "metadata": {},
   "outputs": [
    {
     "data": {
      "text/plain": [
       "'Folder/file.txt'"
      ]
     },
     "execution_count": 3,
     "metadata": {},
     "output_type": "execute_result"
    }
   ],
   "source": [
    "# pathlib objects have useful features like being able to cast them to a string.\n",
    "str(file_path)"
   ]
  },
  {
   "cell_type": "markdown",
   "id": "e1d4ce24-add5-48da-8ca4-5f6836fc4235",
   "metadata": {},
   "source": [
    "### Use Path to get your current working directory."
   ]
  },
  {
   "cell_type": "code",
   "execution_count": 4,
   "id": "cbbec0ec-7681-4517-982a-0af76251babf",
   "metadata": {},
   "outputs": [
    {
     "name": "stdout",
     "output_type": "stream",
     "text": [
      "/Users/warrenrross/Useful_Notebooks\n"
     ]
    }
   ],
   "source": [
    "print(Path.cwd())"
   ]
  },
  {
   "cell_type": "code",
   "execution_count": 5,
   "id": "2d4bd188-a5b5-432d-a4da-2df94ae55172",
   "metadata": {},
   "outputs": [
    {
     "name": "stdout",
     "output_type": "stream",
     "text": [
      "/Users/warrenrross/Useful_Notebooks\n",
      "/Users/warrenrross/Useful_Notebooks/Folder/file.txt\n"
     ]
    }
   ],
   "source": [
    "current_dir = Path.cwd()\n",
    "print(current_dir)\n",
    "print(current_dir/file_path)"
   ]
  },
  {
   "cell_type": "markdown",
   "id": "cbd9e116-1bbe-43fd-ba27-617744dfd035",
   "metadata": {},
   "source": [
    "### Or to get your home directory."
   ]
  },
  {
   "cell_type": "code",
   "execution_count": 6,
   "id": "75f754e6-55e7-4021-ad6e-8963270fee6c",
   "metadata": {},
   "outputs": [
    {
     "name": "stdout",
     "output_type": "stream",
     "text": [
      "/Users/warrenrross\n"
     ]
    }
   ],
   "source": [
    "# Using pathlib to get the home directory\n",
    "print(Path.home())"
   ]
  },
  {
   "cell_type": "code",
   "execution_count": 7,
   "id": "d6245328-63ef-4a79-bbe7-7af417f913ef",
   "metadata": {},
   "outputs": [
    {
     "name": "stdout",
     "output_type": "stream",
     "text": [
      "/Users/warrenrross\n",
      "/Users/warrenrross/Folder/file.txt\n"
     ]
    }
   ],
   "source": [
    "home_dir = Path.home()\n",
    "print(home_dir)\n",
    "print(home_dir/file_path)"
   ]
  },
  {
   "cell_type": "markdown",
   "id": "5c6f9b79-f620-4099-b5a7-9ad7d143c608",
   "metadata": {},
   "source": [
    "### Use .resolve() to add current directory."
   ]
  },
  {
   "cell_type": "code",
   "execution_count": 8,
   "id": "c2b5190b-e048-47a5-956d-bc5899331ef0",
   "metadata": {},
   "outputs": [
    {
     "name": "stdout",
     "output_type": "stream",
     "text": [
      "/Users/warrenrross/Useful_Notebooks/some_file/file.txt\n"
     ]
    }
   ],
   "source": [
    "relative_path = Path(\"some_file/file.txt\")\n",
    "absolute_path = relative_path.resolve()\n",
    "print(absolute_path)"
   ]
  },
  {
   "cell_type": "markdown",
   "id": "df0a6e75-1cd8-4ae5-b2c2-b2b2819582ee",
   "metadata": {},
   "source": [
    "### Use .exists() for boolean logic."
   ]
  },
  {
   "cell_type": "code",
   "execution_count": 9,
   "id": "ad818fa2-2396-4fd8-af00-249fcb50888f",
   "metadata": {},
   "outputs": [
    {
     "name": "stdout",
     "output_type": "stream",
     "text": [
      "Documents/file.txt does not exist.\n"
     ]
    }
   ],
   "source": [
    "file_path = Path(\"Documents/file.txt\")\n",
    "if file_path.exists():\n",
    "    print(f\"{file_path} exists!\")\n",
    "else:\n",
    "    print(f\"{file_path} does not exist.\")\n"
   ]
  },
  {
   "cell_type": "markdown",
   "id": "1411d4e1-e7e3-4bc5-9ef0-11e18ec6fb69",
   "metadata": {},
   "source": [
    "### Making a new Directory (folder)"
   ]
  },
  {
   "cell_type": "code",
   "execution_count": 10,
   "id": "ed30de53-3910-407f-9918-7949f732787b",
   "metadata": {},
   "outputs": [
    {
     "name": "stdout",
     "output_type": "stream",
     "text": [
      "Directory '/Users/warrenrross/Useful_Notebooks/new_directory' already exists.\n"
     ]
    }
   ],
   "source": [
    "from pathlib import Path\n",
    "\n",
    "# Define the directory path\n",
    "directory = Path.cwd() / \"new_directory\"\n",
    "\n",
    "# Create the directory\n",
    "try:\n",
    "    directory.mkdir()\n",
    "    print(f\"Directory '{directory}' created successfully.\")\n",
    "except FileExistsError:\n",
    "    print(f\"Directory '{directory}' already exists.\")\n"
   ]
  },
  {
   "cell_type": "markdown",
   "id": "6d7461c9-1b36-4f0e-862a-d481b2dd3d73",
   "metadata": {},
   "source": [
    "### Reading and Writing files..."
   ]
  },
  {
   "cell_type": "code",
   "execution_count": 11,
   "id": "58708c76-0eaf-4636-a6c6-ed0f0a01f515",
   "metadata": {},
   "outputs": [
    {
     "name": "stdout",
     "output_type": "stream",
     "text": [
      "File '/Users/warrenrross/Useful_Notebooks/new_directory/first_file.txt' created and written successfully.\n",
      "File '/Users/warrenrross/Useful_Notebooks/new_directory/second_file.txt' created and written successfully.\n",
      "File '/Users/warrenrross/Useful_Notebooks/new_directory/third_file.txt' created and written successfully.\n"
     ]
    }
   ],
   "source": [
    "# Define the file path (this will create the file in the current directory)\n",
    "file_names = [\"first_file\", \"second_file\", \"third_file\"]\n",
    "\n",
    "# file_path = Path(\"new_directory/file.txt\")\n",
    "\n",
    "for name in file_names:\n",
    "    name += '.txt'\n",
    "    file_path = Path(directory/name)\n",
    "    # Write content to the file\n",
    "    with file_path.open('w') as file:\n",
    "        file.write(f'Hello, this is the {name} test file.\\n')\n",
    "        file.write(f'This is the {name} second line.')\n",
    "        \n",
    "    print(f\"File '{file_path}' created and written successfully.\")"
   ]
  },
  {
   "cell_type": "markdown",
   "id": "cbbd3302-044b-445a-8270-5b0f6dafc918",
   "metadata": {},
   "source": [
    "### Variable names created in functions persist 'globally'. \n",
    "This is a unique feature or 'bug' in python depending on who you ask."
   ]
  },
  {
   "cell_type": "code",
   "execution_count": 12,
   "id": "6e4f4dc5-19f2-4c9f-96b3-5088534fc244",
   "metadata": {},
   "outputs": [
    {
     "name": "stdout",
     "output_type": "stream",
     "text": [
      "Hello, this is the third_file.txt test file.\n",
      "This is the third_file.txt second line.\n"
     ]
    }
   ],
   "source": [
    "\n",
    "# Read the content of the file\n",
    "with file_path.open() as file:\n",
    "    content = file.read()\n",
    "    print(content)\n"
   ]
  },
  {
   "cell_type": "markdown",
   "id": "c8c10e03-e367-4290-a6a2-0e5cbf665f5e",
   "metadata": {},
   "source": [
    "## Explanation:\n",
    "### Writing:\n",
    "- The open('w') mode is used for writing. \n",
    "- If the file does not exist, it will be created.\n",
    "- The with statement ensures that the file is properly closed after writing.\n",
    "### Reading:\n",
    "- The open('r') mode is used for reading.\n",
    "- The content is read from the file using the read() method and stored in the content variable.\n",
    "- This example first writes to the file, then reads it back and prints the content."
   ]
  },
  {
   "cell_type": "markdown",
   "id": "2fb59d13-7238-47dc-a20b-3cbc6aec6718",
   "metadata": {},
   "source": [
    "## Lots of other useful stuff"
   ]
  },
  {
   "cell_type": "code",
   "execution_count": 13,
   "id": "7dfa63c4-ce2f-46f5-8c66-ecb50dd1ba2c",
   "metadata": {},
   "outputs": [
    {
     "name": "stdout",
     "output_type": "stream",
     "text": [
      "/Users/warrenrross/Useful_Notebooks/new_directory/file.txt\n",
      "/Users/warrenrross/Useful_Notebooks/new_directory/first_file.txt\n",
      "/Users/warrenrross/Useful_Notebooks/new_directory/second_file.txt\n",
      "/Users/warrenrross/Useful_Notebooks/new_directory/third_file.txt\n"
     ]
    }
   ],
   "source": [
    "# Find all .txt files\n",
    "for file in directory.glob(\"*.txt\"):\n",
    "    print(file)\n"
   ]
  },
  {
   "cell_type": "markdown",
   "id": "28d1a596-ebb3-4112-ac38-26c29f7c80ef",
   "metadata": {},
   "source": [
    "## The sys module is available for more technical issues"
   ]
  },
  {
   "cell_type": "code",
   "execution_count": 14,
   "id": "e12760a9-a85e-4192-9aaf-2f92d9af3edd",
   "metadata": {},
   "outputs": [
    {
     "name": "stdout",
     "output_type": "stream",
     "text": [
      "Directory '/Users/warrenrross/Useful_Notebooks/unix_directory' created based on platform.\n"
     ]
    }
   ],
   "source": [
    "# Using the sys module might look something like this.\n",
    "from pathlib import Path\n",
    "import sys\n",
    "\n",
    "# Define directory path based on the platform\n",
    "if sys.platform == 'win32':\n",
    "    directory = Path.cwd() / \"windows_directory\"\n",
    "else:\n",
    "    directory = Path.cwd() / \"unix_directory\"\n",
    "\n",
    "# Create the directory\n",
    "directory.mkdir(parents=True, exist_ok=True)\n",
    "print(f\"Directory '{directory}' created based on platform.\")\n"
   ]
  },
  {
   "cell_type": "markdown",
   "id": "8807fdcd-eb78-46c2-afc2-493e50bcebef",
   "metadata": {},
   "source": [
    "## There is also the os module that you might run into in legacy code.\n",
    "Used in legacy code. Really ugly syntax."
   ]
  },
  {
   "cell_type": "code",
   "execution_count": 15,
   "id": "8306c619-65a3-4ae8-8209-7139fe2955f8",
   "metadata": {},
   "outputs": [
    {
     "name": "stdout",
     "output_type": "stream",
     "text": [
      "Documents/file.txt\n"
     ]
    }
   ],
   "source": [
    "import os\n",
    "\n",
    "# Create a file path in a system-agnostic way\n",
    "directory = \"Documents\"\n",
    "filename = \"file.txt\"\n",
    "file_path = os.path.join(directory, filename)\n",
    "\n",
    "print(file_path)"
   ]
  },
  {
   "cell_type": "code",
   "execution_count": 16,
   "id": "868c4457-f101-4baa-9df1-abb5912e5f8b",
   "metadata": {},
   "outputs": [
    {
     "name": "stdout",
     "output_type": "stream",
     "text": [
      "/Users/warrenrross/Useful_Notebooks\n"
     ]
    }
   ],
   "source": [
    "current_dir = os.getcwd()\n",
    "print(current_dir)"
   ]
  },
  {
   "cell_type": "code",
   "execution_count": 17,
   "id": "ce535147-6dd7-464c-b384-a7146148c547",
   "metadata": {},
   "outputs": [
    {
     "name": "stdout",
     "output_type": "stream",
     "text": [
      "/Users/warrenrross/Useful_Notebooks/Documents/file.txt\n"
     ]
    }
   ],
   "source": [
    "relative_path = \"Documents/file.txt\"\n",
    "absolute_path = os.path.abspath(relative_path)\n",
    "print(absolute_path)"
   ]
  }
 ],
 "metadata": {
  "kernelspec": {
   "display_name": "Python 3 (ipykernel)",
   "language": "python",
   "name": "python3"
  },
  "language_info": {
   "codemirror_mode": {
    "name": "ipython",
    "version": 3
   },
   "file_extension": ".py",
   "mimetype": "text/x-python",
   "name": "python",
   "nbconvert_exporter": "python",
   "pygments_lexer": "ipython3",
   "version": "3.12.5"
  }
 },
 "nbformat": 4,
 "nbformat_minor": 5
}
